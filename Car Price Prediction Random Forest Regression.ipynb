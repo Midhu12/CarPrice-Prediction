{
 "cells": [
  {
   "cell_type": "code",
   "execution_count": 1,
   "id": "8bbb79b7",
   "metadata": {},
   "outputs": [],
   "source": [
    "import pandas as pd"
   ]
  },
  {
   "cell_type": "code",
   "execution_count": 2,
   "id": "19729c01",
   "metadata": {},
   "outputs": [],
   "source": [
    "dataset=pd.read_csv(\"preprocessed carprice.csv\")"
   ]
  },
  {
   "cell_type": "code",
   "execution_count": 3,
   "id": "d69acacd",
   "metadata": {},
   "outputs": [
    {
     "data": {
      "text/html": [
       "<div>\n",
       "<style scoped>\n",
       "    .dataframe tbody tr th:only-of-type {\n",
       "        vertical-align: middle;\n",
       "    }\n",
       "\n",
       "    .dataframe tbody tr th {\n",
       "        vertical-align: top;\n",
       "    }\n",
       "\n",
       "    .dataframe thead th {\n",
       "        text-align: right;\n",
       "    }\n",
       "</style>\n",
       "<table border=\"1\" class=\"dataframe\">\n",
       "  <thead>\n",
       "    <tr style=\"text-align: right;\">\n",
       "      <th></th>\n",
       "      <th>Price</th>\n",
       "      <th>Year</th>\n",
       "      <th>Kilometer</th>\n",
       "      <th>Seating Capacity</th>\n",
       "      <th>Fuel Tank Capacity</th>\n",
       "      <th>Make</th>\n",
       "      <th>Model</th>\n",
       "      <th>Fuel Type</th>\n",
       "      <th>Transmission</th>\n",
       "      <th>Location</th>\n",
       "      <th>Color</th>\n",
       "      <th>Owner</th>\n",
       "      <th>Seller Type</th>\n",
       "      <th>Engine</th>\n",
       "      <th>Max Power</th>\n",
       "      <th>Max Torque</th>\n",
       "      <th>Drivetrain</th>\n",
       "    </tr>\n",
       "  </thead>\n",
       "  <tbody>\n",
       "    <tr>\n",
       "      <th>0</th>\n",
       "      <td>505000.0</td>\n",
       "      <td>2017.0</td>\n",
       "      <td>87150.0</td>\n",
       "      <td>5.0</td>\n",
       "      <td>35.0</td>\n",
       "      <td>Honda</td>\n",
       "      <td>Amaze 1.2 VX i-VTEC</td>\n",
       "      <td>Petrol</td>\n",
       "      <td>Manual</td>\n",
       "      <td>Pune</td>\n",
       "      <td>Grey</td>\n",
       "      <td>First</td>\n",
       "      <td>Corporate</td>\n",
       "      <td>1198 cc</td>\n",
       "      <td>87 bhp @ 6000 rpm</td>\n",
       "      <td>109 Nm @ 4500 rpm</td>\n",
       "      <td>FWD</td>\n",
       "    </tr>\n",
       "    <tr>\n",
       "      <th>1</th>\n",
       "      <td>450000.0</td>\n",
       "      <td>2014.0</td>\n",
       "      <td>75000.0</td>\n",
       "      <td>5.0</td>\n",
       "      <td>42.0</td>\n",
       "      <td>Maruti Suzuki</td>\n",
       "      <td>Swift DZire VDI</td>\n",
       "      <td>Diesel</td>\n",
       "      <td>Manual</td>\n",
       "      <td>Ludhiana</td>\n",
       "      <td>White</td>\n",
       "      <td>Second</td>\n",
       "      <td>Individual</td>\n",
       "      <td>1248 cc</td>\n",
       "      <td>74 bhp @ 4000 rpm</td>\n",
       "      <td>190 Nm @ 2000 rpm</td>\n",
       "      <td>FWD</td>\n",
       "    </tr>\n",
       "    <tr>\n",
       "      <th>2</th>\n",
       "      <td>220000.0</td>\n",
       "      <td>2011.0</td>\n",
       "      <td>67000.0</td>\n",
       "      <td>5.0</td>\n",
       "      <td>35.0</td>\n",
       "      <td>Hyundai</td>\n",
       "      <td>i10 Magna 1.2 Kappa2</td>\n",
       "      <td>Petrol</td>\n",
       "      <td>Manual</td>\n",
       "      <td>Lucknow</td>\n",
       "      <td>Maroon</td>\n",
       "      <td>First</td>\n",
       "      <td>Individual</td>\n",
       "      <td>1197 cc</td>\n",
       "      <td>79 bhp @ 6000 rpm</td>\n",
       "      <td>112.7619 Nm @ 4000 rpm</td>\n",
       "      <td>FWD</td>\n",
       "    </tr>\n",
       "    <tr>\n",
       "      <th>3</th>\n",
       "      <td>799000.0</td>\n",
       "      <td>2019.0</td>\n",
       "      <td>37500.0</td>\n",
       "      <td>5.0</td>\n",
       "      <td>37.0</td>\n",
       "      <td>Toyota</td>\n",
       "      <td>Glanza G</td>\n",
       "      <td>Petrol</td>\n",
       "      <td>Manual</td>\n",
       "      <td>Mangalore</td>\n",
       "      <td>Red</td>\n",
       "      <td>First</td>\n",
       "      <td>Individual</td>\n",
       "      <td>1197 cc</td>\n",
       "      <td>82 bhp @ 6000 rpm</td>\n",
       "      <td>113 Nm @ 4200 rpm</td>\n",
       "      <td>FWD</td>\n",
       "    </tr>\n",
       "    <tr>\n",
       "      <th>4</th>\n",
       "      <td>1950000.0</td>\n",
       "      <td>2018.0</td>\n",
       "      <td>69000.0</td>\n",
       "      <td>5.0</td>\n",
       "      <td>55.0</td>\n",
       "      <td>Toyota</td>\n",
       "      <td>Innova 2.4 VX 7 STR [2016-2020]</td>\n",
       "      <td>Diesel</td>\n",
       "      <td>Manual</td>\n",
       "      <td>Mumbai</td>\n",
       "      <td>Grey</td>\n",
       "      <td>First</td>\n",
       "      <td>Individual</td>\n",
       "      <td>2393 cc</td>\n",
       "      <td>148 bhp @ 3400 rpm</td>\n",
       "      <td>343 Nm @ 1400 rpm</td>\n",
       "      <td>RWD</td>\n",
       "    </tr>\n",
       "    <tr>\n",
       "      <th>...</th>\n",
       "      <td>...</td>\n",
       "      <td>...</td>\n",
       "      <td>...</td>\n",
       "      <td>...</td>\n",
       "      <td>...</td>\n",
       "      <td>...</td>\n",
       "      <td>...</td>\n",
       "      <td>...</td>\n",
       "      <td>...</td>\n",
       "      <td>...</td>\n",
       "      <td>...</td>\n",
       "      <td>...</td>\n",
       "      <td>...</td>\n",
       "      <td>...</td>\n",
       "      <td>...</td>\n",
       "      <td>...</td>\n",
       "      <td>...</td>\n",
       "    </tr>\n",
       "    <tr>\n",
       "      <th>2054</th>\n",
       "      <td>850000.0</td>\n",
       "      <td>2016.0</td>\n",
       "      <td>90300.0</td>\n",
       "      <td>5.0</td>\n",
       "      <td>70.0</td>\n",
       "      <td>Mahindra</td>\n",
       "      <td>XUV500 W8 [2015-2017]</td>\n",
       "      <td>Diesel</td>\n",
       "      <td>Manual</td>\n",
       "      <td>Surat</td>\n",
       "      <td>White</td>\n",
       "      <td>First</td>\n",
       "      <td>Individual</td>\n",
       "      <td>2179 cc</td>\n",
       "      <td>138 bhp @ 3750 rpm</td>\n",
       "      <td>330 Nm @ 1600 rpm</td>\n",
       "      <td>FWD</td>\n",
       "    </tr>\n",
       "    <tr>\n",
       "      <th>2055</th>\n",
       "      <td>275000.0</td>\n",
       "      <td>2014.0</td>\n",
       "      <td>83000.0</td>\n",
       "      <td>5.0</td>\n",
       "      <td>32.0</td>\n",
       "      <td>Hyundai</td>\n",
       "      <td>Eon D-Lite +</td>\n",
       "      <td>Petrol</td>\n",
       "      <td>Manual</td>\n",
       "      <td>Ahmedabad</td>\n",
       "      <td>White</td>\n",
       "      <td>Second</td>\n",
       "      <td>Individual</td>\n",
       "      <td>814 cc</td>\n",
       "      <td>55 bhp @ 5500 rpm</td>\n",
       "      <td>75 Nm @ 4000 rpm</td>\n",
       "      <td>FWD</td>\n",
       "    </tr>\n",
       "    <tr>\n",
       "      <th>2056</th>\n",
       "      <td>240000.0</td>\n",
       "      <td>2013.0</td>\n",
       "      <td>73000.0</td>\n",
       "      <td>5.0</td>\n",
       "      <td>45.0</td>\n",
       "      <td>Ford</td>\n",
       "      <td>Figo Duratec Petrol ZXI 1.2</td>\n",
       "      <td>Petrol</td>\n",
       "      <td>Manual</td>\n",
       "      <td>Thane</td>\n",
       "      <td>Silver</td>\n",
       "      <td>First</td>\n",
       "      <td>Individual</td>\n",
       "      <td>1196 cc</td>\n",
       "      <td>70 bhp @ 6250 rpm</td>\n",
       "      <td>102 Nm @ 4000 rpm</td>\n",
       "      <td>FWD</td>\n",
       "    </tr>\n",
       "    <tr>\n",
       "      <th>2057</th>\n",
       "      <td>4085001.5</td>\n",
       "      <td>2018.0</td>\n",
       "      <td>60474.0</td>\n",
       "      <td>5.0</td>\n",
       "      <td>65.0</td>\n",
       "      <td>BMW</td>\n",
       "      <td>5-Series 520d Luxury Line [2017-2019]</td>\n",
       "      <td>Diesel</td>\n",
       "      <td>Automatic</td>\n",
       "      <td>Coimbatore</td>\n",
       "      <td>White</td>\n",
       "      <td>First</td>\n",
       "      <td>Individual</td>\n",
       "      <td>1995 cc</td>\n",
       "      <td>188 bhp @ 4000 rpm</td>\n",
       "      <td>400 Nm @ 1750 rpm</td>\n",
       "      <td>RWD</td>\n",
       "    </tr>\n",
       "    <tr>\n",
       "      <th>2058</th>\n",
       "      <td>670000.0</td>\n",
       "      <td>2017.0</td>\n",
       "      <td>72000.0</td>\n",
       "      <td>5.0</td>\n",
       "      <td>10.0</td>\n",
       "      <td>Mahindra</td>\n",
       "      <td>Bolero Power Plus ZLX [2016-2019]</td>\n",
       "      <td>Diesel</td>\n",
       "      <td>Manual</td>\n",
       "      <td>Guwahati</td>\n",
       "      <td>White</td>\n",
       "      <td>First</td>\n",
       "      <td>Individual</td>\n",
       "      <td>1493 cc</td>\n",
       "      <td>70 bhp @ 3600 rpm</td>\n",
       "      <td>195 Nm @ 1400 rpm</td>\n",
       "      <td>RWD</td>\n",
       "    </tr>\n",
       "  </tbody>\n",
       "</table>\n",
       "<p>2059 rows × 17 columns</p>\n",
       "</div>"
      ],
      "text/plain": [
       "          Price    Year  Kilometer  Seating Capacity  Fuel Tank Capacity  \\\n",
       "0      505000.0  2017.0    87150.0               5.0                35.0   \n",
       "1      450000.0  2014.0    75000.0               5.0                42.0   \n",
       "2      220000.0  2011.0    67000.0               5.0                35.0   \n",
       "3      799000.0  2019.0    37500.0               5.0                37.0   \n",
       "4     1950000.0  2018.0    69000.0               5.0                55.0   \n",
       "...         ...     ...        ...               ...                 ...   \n",
       "2054   850000.0  2016.0    90300.0               5.0                70.0   \n",
       "2055   275000.0  2014.0    83000.0               5.0                32.0   \n",
       "2056   240000.0  2013.0    73000.0               5.0                45.0   \n",
       "2057  4085001.5  2018.0    60474.0               5.0                65.0   \n",
       "2058   670000.0  2017.0    72000.0               5.0                10.0   \n",
       "\n",
       "               Make                                  Model Fuel Type  \\\n",
       "0             Honda                    Amaze 1.2 VX i-VTEC    Petrol   \n",
       "1     Maruti Suzuki                        Swift DZire VDI    Diesel   \n",
       "2           Hyundai                   i10 Magna 1.2 Kappa2    Petrol   \n",
       "3            Toyota                               Glanza G    Petrol   \n",
       "4            Toyota        Innova 2.4 VX 7 STR [2016-2020]    Diesel   \n",
       "...             ...                                    ...       ...   \n",
       "2054       Mahindra                  XUV500 W8 [2015-2017]    Diesel   \n",
       "2055        Hyundai                           Eon D-Lite +    Petrol   \n",
       "2056           Ford            Figo Duratec Petrol ZXI 1.2    Petrol   \n",
       "2057            BMW  5-Series 520d Luxury Line [2017-2019]    Diesel   \n",
       "2058       Mahindra      Bolero Power Plus ZLX [2016-2019]    Diesel   \n",
       "\n",
       "     Transmission    Location   Color   Owner Seller Type   Engine  \\\n",
       "0          Manual        Pune    Grey   First   Corporate  1198 cc   \n",
       "1          Manual    Ludhiana   White  Second  Individual  1248 cc   \n",
       "2          Manual     Lucknow  Maroon   First  Individual  1197 cc   \n",
       "3          Manual   Mangalore     Red   First  Individual  1197 cc   \n",
       "4          Manual      Mumbai    Grey   First  Individual  2393 cc   \n",
       "...           ...         ...     ...     ...         ...      ...   \n",
       "2054       Manual       Surat   White   First  Individual  2179 cc   \n",
       "2055       Manual   Ahmedabad   White  Second  Individual   814 cc   \n",
       "2056       Manual       Thane  Silver   First  Individual  1196 cc   \n",
       "2057    Automatic  Coimbatore   White   First  Individual  1995 cc   \n",
       "2058       Manual    Guwahati   White   First  Individual  1493 cc   \n",
       "\n",
       "               Max Power              Max Torque Drivetrain  \n",
       "0      87 bhp @ 6000 rpm       109 Nm @ 4500 rpm        FWD  \n",
       "1      74 bhp @ 4000 rpm       190 Nm @ 2000 rpm        FWD  \n",
       "2      79 bhp @ 6000 rpm  112.7619 Nm @ 4000 rpm        FWD  \n",
       "3      82 bhp @ 6000 rpm       113 Nm @ 4200 rpm        FWD  \n",
       "4     148 bhp @ 3400 rpm       343 Nm @ 1400 rpm        RWD  \n",
       "...                  ...                     ...        ...  \n",
       "2054  138 bhp @ 3750 rpm       330 Nm @ 1600 rpm        FWD  \n",
       "2055   55 bhp @ 5500 rpm        75 Nm @ 4000 rpm        FWD  \n",
       "2056   70 bhp @ 6250 rpm       102 Nm @ 4000 rpm        FWD  \n",
       "2057  188 bhp @ 4000 rpm       400 Nm @ 1750 rpm        RWD  \n",
       "2058   70 bhp @ 3600 rpm       195 Nm @ 1400 rpm        RWD  \n",
       "\n",
       "[2059 rows x 17 columns]"
      ]
     },
     "execution_count": 3,
     "metadata": {},
     "output_type": "execute_result"
    }
   ],
   "source": [
    "dataset"
   ]
  },
  {
   "cell_type": "code",
   "execution_count": 4,
   "id": "c81b1957",
   "metadata": {},
   "outputs": [],
   "source": [
    "dataset=pd.get_dummies(dataset,drop_first=True)"
   ]
  },
  {
   "cell_type": "code",
   "execution_count": 5,
   "id": "b4664ff2",
   "metadata": {},
   "outputs": [
    {
     "data": {
      "text/html": [
       "<div>\n",
       "<style scoped>\n",
       "    .dataframe tbody tr th:only-of-type {\n",
       "        vertical-align: middle;\n",
       "    }\n",
       "\n",
       "    .dataframe tbody tr th {\n",
       "        vertical-align: top;\n",
       "    }\n",
       "\n",
       "    .dataframe thead th {\n",
       "        text-align: right;\n",
       "    }\n",
       "</style>\n",
       "<table border=\"1\" class=\"dataframe\">\n",
       "  <thead>\n",
       "    <tr style=\"text-align: right;\">\n",
       "      <th></th>\n",
       "      <th>Price</th>\n",
       "      <th>Year</th>\n",
       "      <th>Kilometer</th>\n",
       "      <th>Seating Capacity</th>\n",
       "      <th>Fuel Tank Capacity</th>\n",
       "      <th>Make_BMW</th>\n",
       "      <th>Make_Chevrolet</th>\n",
       "      <th>Make_Datsun</th>\n",
       "      <th>Make_Ferrari</th>\n",
       "      <th>Make_Fiat</th>\n",
       "      <th>...</th>\n",
       "      <th>Max Torque_96 Nm @ 3000 rpm</th>\n",
       "      <th>Max Torque_96 Nm @ 3500 rpm</th>\n",
       "      <th>Max Torque_98 Nm @ 3000 rpm</th>\n",
       "      <th>Max Torque_99 Nm @ 4500 rpm</th>\n",
       "      <th>Max Torque_99.08 Nm @ 4500 rpm</th>\n",
       "      <th>Max Torque_99.081 Nm @ 4500 rpm</th>\n",
       "      <th>Max Torque_99@2800</th>\n",
       "      <th>Drivetrain_AWD</th>\n",
       "      <th>Drivetrain_FWD</th>\n",
       "      <th>Drivetrain_RWD</th>\n",
       "    </tr>\n",
       "  </thead>\n",
       "  <tbody>\n",
       "    <tr>\n",
       "      <th>0</th>\n",
       "      <td>505000.0</td>\n",
       "      <td>2017.0</td>\n",
       "      <td>87150.0</td>\n",
       "      <td>5.0</td>\n",
       "      <td>35.0</td>\n",
       "      <td>0</td>\n",
       "      <td>0</td>\n",
       "      <td>0</td>\n",
       "      <td>0</td>\n",
       "      <td>0</td>\n",
       "      <td>...</td>\n",
       "      <td>0</td>\n",
       "      <td>0</td>\n",
       "      <td>0</td>\n",
       "      <td>0</td>\n",
       "      <td>0</td>\n",
       "      <td>0</td>\n",
       "      <td>0</td>\n",
       "      <td>0</td>\n",
       "      <td>1</td>\n",
       "      <td>0</td>\n",
       "    </tr>\n",
       "    <tr>\n",
       "      <th>1</th>\n",
       "      <td>450000.0</td>\n",
       "      <td>2014.0</td>\n",
       "      <td>75000.0</td>\n",
       "      <td>5.0</td>\n",
       "      <td>42.0</td>\n",
       "      <td>0</td>\n",
       "      <td>0</td>\n",
       "      <td>0</td>\n",
       "      <td>0</td>\n",
       "      <td>0</td>\n",
       "      <td>...</td>\n",
       "      <td>0</td>\n",
       "      <td>0</td>\n",
       "      <td>0</td>\n",
       "      <td>0</td>\n",
       "      <td>0</td>\n",
       "      <td>0</td>\n",
       "      <td>0</td>\n",
       "      <td>0</td>\n",
       "      <td>1</td>\n",
       "      <td>0</td>\n",
       "    </tr>\n",
       "    <tr>\n",
       "      <th>2</th>\n",
       "      <td>220000.0</td>\n",
       "      <td>2011.0</td>\n",
       "      <td>67000.0</td>\n",
       "      <td>5.0</td>\n",
       "      <td>35.0</td>\n",
       "      <td>0</td>\n",
       "      <td>0</td>\n",
       "      <td>0</td>\n",
       "      <td>0</td>\n",
       "      <td>0</td>\n",
       "      <td>...</td>\n",
       "      <td>0</td>\n",
       "      <td>0</td>\n",
       "      <td>0</td>\n",
       "      <td>0</td>\n",
       "      <td>0</td>\n",
       "      <td>0</td>\n",
       "      <td>0</td>\n",
       "      <td>0</td>\n",
       "      <td>1</td>\n",
       "      <td>0</td>\n",
       "    </tr>\n",
       "    <tr>\n",
       "      <th>3</th>\n",
       "      <td>799000.0</td>\n",
       "      <td>2019.0</td>\n",
       "      <td>37500.0</td>\n",
       "      <td>5.0</td>\n",
       "      <td>37.0</td>\n",
       "      <td>0</td>\n",
       "      <td>0</td>\n",
       "      <td>0</td>\n",
       "      <td>0</td>\n",
       "      <td>0</td>\n",
       "      <td>...</td>\n",
       "      <td>0</td>\n",
       "      <td>0</td>\n",
       "      <td>0</td>\n",
       "      <td>0</td>\n",
       "      <td>0</td>\n",
       "      <td>0</td>\n",
       "      <td>0</td>\n",
       "      <td>0</td>\n",
       "      <td>1</td>\n",
       "      <td>0</td>\n",
       "    </tr>\n",
       "    <tr>\n",
       "      <th>4</th>\n",
       "      <td>1950000.0</td>\n",
       "      <td>2018.0</td>\n",
       "      <td>69000.0</td>\n",
       "      <td>5.0</td>\n",
       "      <td>55.0</td>\n",
       "      <td>0</td>\n",
       "      <td>0</td>\n",
       "      <td>0</td>\n",
       "      <td>0</td>\n",
       "      <td>0</td>\n",
       "      <td>...</td>\n",
       "      <td>0</td>\n",
       "      <td>0</td>\n",
       "      <td>0</td>\n",
       "      <td>0</td>\n",
       "      <td>0</td>\n",
       "      <td>0</td>\n",
       "      <td>0</td>\n",
       "      <td>0</td>\n",
       "      <td>0</td>\n",
       "      <td>1</td>\n",
       "    </tr>\n",
       "    <tr>\n",
       "      <th>...</th>\n",
       "      <td>...</td>\n",
       "      <td>...</td>\n",
       "      <td>...</td>\n",
       "      <td>...</td>\n",
       "      <td>...</td>\n",
       "      <td>...</td>\n",
       "      <td>...</td>\n",
       "      <td>...</td>\n",
       "      <td>...</td>\n",
       "      <td>...</td>\n",
       "      <td>...</td>\n",
       "      <td>...</td>\n",
       "      <td>...</td>\n",
       "      <td>...</td>\n",
       "      <td>...</td>\n",
       "      <td>...</td>\n",
       "      <td>...</td>\n",
       "      <td>...</td>\n",
       "      <td>...</td>\n",
       "      <td>...</td>\n",
       "      <td>...</td>\n",
       "    </tr>\n",
       "    <tr>\n",
       "      <th>2054</th>\n",
       "      <td>850000.0</td>\n",
       "      <td>2016.0</td>\n",
       "      <td>90300.0</td>\n",
       "      <td>5.0</td>\n",
       "      <td>70.0</td>\n",
       "      <td>0</td>\n",
       "      <td>0</td>\n",
       "      <td>0</td>\n",
       "      <td>0</td>\n",
       "      <td>0</td>\n",
       "      <td>...</td>\n",
       "      <td>0</td>\n",
       "      <td>0</td>\n",
       "      <td>0</td>\n",
       "      <td>0</td>\n",
       "      <td>0</td>\n",
       "      <td>0</td>\n",
       "      <td>0</td>\n",
       "      <td>0</td>\n",
       "      <td>1</td>\n",
       "      <td>0</td>\n",
       "    </tr>\n",
       "    <tr>\n",
       "      <th>2055</th>\n",
       "      <td>275000.0</td>\n",
       "      <td>2014.0</td>\n",
       "      <td>83000.0</td>\n",
       "      <td>5.0</td>\n",
       "      <td>32.0</td>\n",
       "      <td>0</td>\n",
       "      <td>0</td>\n",
       "      <td>0</td>\n",
       "      <td>0</td>\n",
       "      <td>0</td>\n",
       "      <td>...</td>\n",
       "      <td>0</td>\n",
       "      <td>0</td>\n",
       "      <td>0</td>\n",
       "      <td>0</td>\n",
       "      <td>0</td>\n",
       "      <td>0</td>\n",
       "      <td>0</td>\n",
       "      <td>0</td>\n",
       "      <td>1</td>\n",
       "      <td>0</td>\n",
       "    </tr>\n",
       "    <tr>\n",
       "      <th>2056</th>\n",
       "      <td>240000.0</td>\n",
       "      <td>2013.0</td>\n",
       "      <td>73000.0</td>\n",
       "      <td>5.0</td>\n",
       "      <td>45.0</td>\n",
       "      <td>0</td>\n",
       "      <td>0</td>\n",
       "      <td>0</td>\n",
       "      <td>0</td>\n",
       "      <td>0</td>\n",
       "      <td>...</td>\n",
       "      <td>0</td>\n",
       "      <td>0</td>\n",
       "      <td>0</td>\n",
       "      <td>0</td>\n",
       "      <td>0</td>\n",
       "      <td>0</td>\n",
       "      <td>0</td>\n",
       "      <td>0</td>\n",
       "      <td>1</td>\n",
       "      <td>0</td>\n",
       "    </tr>\n",
       "    <tr>\n",
       "      <th>2057</th>\n",
       "      <td>4085001.5</td>\n",
       "      <td>2018.0</td>\n",
       "      <td>60474.0</td>\n",
       "      <td>5.0</td>\n",
       "      <td>65.0</td>\n",
       "      <td>1</td>\n",
       "      <td>0</td>\n",
       "      <td>0</td>\n",
       "      <td>0</td>\n",
       "      <td>0</td>\n",
       "      <td>...</td>\n",
       "      <td>0</td>\n",
       "      <td>0</td>\n",
       "      <td>0</td>\n",
       "      <td>0</td>\n",
       "      <td>0</td>\n",
       "      <td>0</td>\n",
       "      <td>0</td>\n",
       "      <td>0</td>\n",
       "      <td>0</td>\n",
       "      <td>1</td>\n",
       "    </tr>\n",
       "    <tr>\n",
       "      <th>2058</th>\n",
       "      <td>670000.0</td>\n",
       "      <td>2017.0</td>\n",
       "      <td>72000.0</td>\n",
       "      <td>5.0</td>\n",
       "      <td>10.0</td>\n",
       "      <td>0</td>\n",
       "      <td>0</td>\n",
       "      <td>0</td>\n",
       "      <td>0</td>\n",
       "      <td>0</td>\n",
       "      <td>...</td>\n",
       "      <td>0</td>\n",
       "      <td>0</td>\n",
       "      <td>0</td>\n",
       "      <td>0</td>\n",
       "      <td>0</td>\n",
       "      <td>0</td>\n",
       "      <td>0</td>\n",
       "      <td>0</td>\n",
       "      <td>0</td>\n",
       "      <td>1</td>\n",
       "    </tr>\n",
       "  </tbody>\n",
       "</table>\n",
       "<p>2059 rows × 1930 columns</p>\n",
       "</div>"
      ],
      "text/plain": [
       "          Price    Year  Kilometer  Seating Capacity  Fuel Tank Capacity  \\\n",
       "0      505000.0  2017.0    87150.0               5.0                35.0   \n",
       "1      450000.0  2014.0    75000.0               5.0                42.0   \n",
       "2      220000.0  2011.0    67000.0               5.0                35.0   \n",
       "3      799000.0  2019.0    37500.0               5.0                37.0   \n",
       "4     1950000.0  2018.0    69000.0               5.0                55.0   \n",
       "...         ...     ...        ...               ...                 ...   \n",
       "2054   850000.0  2016.0    90300.0               5.0                70.0   \n",
       "2055   275000.0  2014.0    83000.0               5.0                32.0   \n",
       "2056   240000.0  2013.0    73000.0               5.0                45.0   \n",
       "2057  4085001.5  2018.0    60474.0               5.0                65.0   \n",
       "2058   670000.0  2017.0    72000.0               5.0                10.0   \n",
       "\n",
       "      Make_BMW  Make_Chevrolet  Make_Datsun  Make_Ferrari  Make_Fiat  ...  \\\n",
       "0            0               0            0             0          0  ...   \n",
       "1            0               0            0             0          0  ...   \n",
       "2            0               0            0             0          0  ...   \n",
       "3            0               0            0             0          0  ...   \n",
       "4            0               0            0             0          0  ...   \n",
       "...        ...             ...          ...           ...        ...  ...   \n",
       "2054         0               0            0             0          0  ...   \n",
       "2055         0               0            0             0          0  ...   \n",
       "2056         0               0            0             0          0  ...   \n",
       "2057         1               0            0             0          0  ...   \n",
       "2058         0               0            0             0          0  ...   \n",
       "\n",
       "      Max Torque_96 Nm @ 3000 rpm  Max Torque_96 Nm @ 3500 rpm  \\\n",
       "0                               0                            0   \n",
       "1                               0                            0   \n",
       "2                               0                            0   \n",
       "3                               0                            0   \n",
       "4                               0                            0   \n",
       "...                           ...                          ...   \n",
       "2054                            0                            0   \n",
       "2055                            0                            0   \n",
       "2056                            0                            0   \n",
       "2057                            0                            0   \n",
       "2058                            0                            0   \n",
       "\n",
       "      Max Torque_98 Nm @ 3000 rpm  Max Torque_99 Nm @ 4500 rpm  \\\n",
       "0                               0                            0   \n",
       "1                               0                            0   \n",
       "2                               0                            0   \n",
       "3                               0                            0   \n",
       "4                               0                            0   \n",
       "...                           ...                          ...   \n",
       "2054                            0                            0   \n",
       "2055                            0                            0   \n",
       "2056                            0                            0   \n",
       "2057                            0                            0   \n",
       "2058                            0                            0   \n",
       "\n",
       "      Max Torque_99.08 Nm @ 4500 rpm  Max Torque_99.081 Nm @ 4500 rpm  \\\n",
       "0                                  0                                0   \n",
       "1                                  0                                0   \n",
       "2                                  0                                0   \n",
       "3                                  0                                0   \n",
       "4                                  0                                0   \n",
       "...                              ...                              ...   \n",
       "2054                               0                                0   \n",
       "2055                               0                                0   \n",
       "2056                               0                                0   \n",
       "2057                               0                                0   \n",
       "2058                               0                                0   \n",
       "\n",
       "      Max Torque_99@2800  Drivetrain_AWD  Drivetrain_FWD  Drivetrain_RWD  \n",
       "0                      0               0               1               0  \n",
       "1                      0               0               1               0  \n",
       "2                      0               0               1               0  \n",
       "3                      0               0               1               0  \n",
       "4                      0               0               0               1  \n",
       "...                  ...             ...             ...             ...  \n",
       "2054                   0               0               1               0  \n",
       "2055                   0               0               1               0  \n",
       "2056                   0               0               1               0  \n",
       "2057                   0               0               0               1  \n",
       "2058                   0               0               0               1  \n",
       "\n",
       "[2059 rows x 1930 columns]"
      ]
     },
     "execution_count": 5,
     "metadata": {},
     "output_type": "execute_result"
    }
   ],
   "source": [
    "dataset"
   ]
  },
  {
   "cell_type": "code",
   "execution_count": 6,
   "id": "214c6be1",
   "metadata": {},
   "outputs": [
    {
     "data": {
      "text/html": [
       "<div>\n",
       "<style scoped>\n",
       "    .dataframe tbody tr th:only-of-type {\n",
       "        vertical-align: middle;\n",
       "    }\n",
       "\n",
       "    .dataframe tbody tr th {\n",
       "        vertical-align: top;\n",
       "    }\n",
       "\n",
       "    .dataframe thead th {\n",
       "        text-align: right;\n",
       "    }\n",
       "</style>\n",
       "<table border=\"1\" class=\"dataframe\">\n",
       "  <thead>\n",
       "    <tr style=\"text-align: right;\">\n",
       "      <th></th>\n",
       "      <th>Price</th>\n",
       "      <th>Year</th>\n",
       "      <th>Kilometer</th>\n",
       "      <th>Seating Capacity</th>\n",
       "      <th>Fuel Tank Capacity</th>\n",
       "      <th>Make_BMW</th>\n",
       "      <th>Make_Chevrolet</th>\n",
       "      <th>Make_Datsun</th>\n",
       "      <th>Make_Ferrari</th>\n",
       "      <th>Make_Fiat</th>\n",
       "      <th>...</th>\n",
       "      <th>Max Torque_96 Nm @ 3000 rpm</th>\n",
       "      <th>Max Torque_96 Nm @ 3500 rpm</th>\n",
       "      <th>Max Torque_98 Nm @ 3000 rpm</th>\n",
       "      <th>Max Torque_99 Nm @ 4500 rpm</th>\n",
       "      <th>Max Torque_99.08 Nm @ 4500 rpm</th>\n",
       "      <th>Max Torque_99.081 Nm @ 4500 rpm</th>\n",
       "      <th>Max Torque_99@2800</th>\n",
       "      <th>Drivetrain_AWD</th>\n",
       "      <th>Drivetrain_FWD</th>\n",
       "      <th>Drivetrain_RWD</th>\n",
       "    </tr>\n",
       "  </thead>\n",
       "  <tbody>\n",
       "    <tr>\n",
       "      <th>2054</th>\n",
       "      <td>850000.0</td>\n",
       "      <td>2016.0</td>\n",
       "      <td>90300.0</td>\n",
       "      <td>5.0</td>\n",
       "      <td>70.0</td>\n",
       "      <td>0</td>\n",
       "      <td>0</td>\n",
       "      <td>0</td>\n",
       "      <td>0</td>\n",
       "      <td>0</td>\n",
       "      <td>...</td>\n",
       "      <td>0</td>\n",
       "      <td>0</td>\n",
       "      <td>0</td>\n",
       "      <td>0</td>\n",
       "      <td>0</td>\n",
       "      <td>0</td>\n",
       "      <td>0</td>\n",
       "      <td>0</td>\n",
       "      <td>1</td>\n",
       "      <td>0</td>\n",
       "    </tr>\n",
       "    <tr>\n",
       "      <th>2055</th>\n",
       "      <td>275000.0</td>\n",
       "      <td>2014.0</td>\n",
       "      <td>83000.0</td>\n",
       "      <td>5.0</td>\n",
       "      <td>32.0</td>\n",
       "      <td>0</td>\n",
       "      <td>0</td>\n",
       "      <td>0</td>\n",
       "      <td>0</td>\n",
       "      <td>0</td>\n",
       "      <td>...</td>\n",
       "      <td>0</td>\n",
       "      <td>0</td>\n",
       "      <td>0</td>\n",
       "      <td>0</td>\n",
       "      <td>0</td>\n",
       "      <td>0</td>\n",
       "      <td>0</td>\n",
       "      <td>0</td>\n",
       "      <td>1</td>\n",
       "      <td>0</td>\n",
       "    </tr>\n",
       "    <tr>\n",
       "      <th>2056</th>\n",
       "      <td>240000.0</td>\n",
       "      <td>2013.0</td>\n",
       "      <td>73000.0</td>\n",
       "      <td>5.0</td>\n",
       "      <td>45.0</td>\n",
       "      <td>0</td>\n",
       "      <td>0</td>\n",
       "      <td>0</td>\n",
       "      <td>0</td>\n",
       "      <td>0</td>\n",
       "      <td>...</td>\n",
       "      <td>0</td>\n",
       "      <td>0</td>\n",
       "      <td>0</td>\n",
       "      <td>0</td>\n",
       "      <td>0</td>\n",
       "      <td>0</td>\n",
       "      <td>0</td>\n",
       "      <td>0</td>\n",
       "      <td>1</td>\n",
       "      <td>0</td>\n",
       "    </tr>\n",
       "    <tr>\n",
       "      <th>2057</th>\n",
       "      <td>4085001.5</td>\n",
       "      <td>2018.0</td>\n",
       "      <td>60474.0</td>\n",
       "      <td>5.0</td>\n",
       "      <td>65.0</td>\n",
       "      <td>1</td>\n",
       "      <td>0</td>\n",
       "      <td>0</td>\n",
       "      <td>0</td>\n",
       "      <td>0</td>\n",
       "      <td>...</td>\n",
       "      <td>0</td>\n",
       "      <td>0</td>\n",
       "      <td>0</td>\n",
       "      <td>0</td>\n",
       "      <td>0</td>\n",
       "      <td>0</td>\n",
       "      <td>0</td>\n",
       "      <td>0</td>\n",
       "      <td>0</td>\n",
       "      <td>1</td>\n",
       "    </tr>\n",
       "    <tr>\n",
       "      <th>2058</th>\n",
       "      <td>670000.0</td>\n",
       "      <td>2017.0</td>\n",
       "      <td>72000.0</td>\n",
       "      <td>5.0</td>\n",
       "      <td>10.0</td>\n",
       "      <td>0</td>\n",
       "      <td>0</td>\n",
       "      <td>0</td>\n",
       "      <td>0</td>\n",
       "      <td>0</td>\n",
       "      <td>...</td>\n",
       "      <td>0</td>\n",
       "      <td>0</td>\n",
       "      <td>0</td>\n",
       "      <td>0</td>\n",
       "      <td>0</td>\n",
       "      <td>0</td>\n",
       "      <td>0</td>\n",
       "      <td>0</td>\n",
       "      <td>0</td>\n",
       "      <td>1</td>\n",
       "    </tr>\n",
       "  </tbody>\n",
       "</table>\n",
       "<p>5 rows × 1930 columns</p>\n",
       "</div>"
      ],
      "text/plain": [
       "          Price    Year  Kilometer  Seating Capacity  Fuel Tank Capacity  \\\n",
       "2054   850000.0  2016.0    90300.0               5.0                70.0   \n",
       "2055   275000.0  2014.0    83000.0               5.0                32.0   \n",
       "2056   240000.0  2013.0    73000.0               5.0                45.0   \n",
       "2057  4085001.5  2018.0    60474.0               5.0                65.0   \n",
       "2058   670000.0  2017.0    72000.0               5.0                10.0   \n",
       "\n",
       "      Make_BMW  Make_Chevrolet  Make_Datsun  Make_Ferrari  Make_Fiat  ...  \\\n",
       "2054         0               0            0             0          0  ...   \n",
       "2055         0               0            0             0          0  ...   \n",
       "2056         0               0            0             0          0  ...   \n",
       "2057         1               0            0             0          0  ...   \n",
       "2058         0               0            0             0          0  ...   \n",
       "\n",
       "      Max Torque_96 Nm @ 3000 rpm  Max Torque_96 Nm @ 3500 rpm  \\\n",
       "2054                            0                            0   \n",
       "2055                            0                            0   \n",
       "2056                            0                            0   \n",
       "2057                            0                            0   \n",
       "2058                            0                            0   \n",
       "\n",
       "      Max Torque_98 Nm @ 3000 rpm  Max Torque_99 Nm @ 4500 rpm  \\\n",
       "2054                            0                            0   \n",
       "2055                            0                            0   \n",
       "2056                            0                            0   \n",
       "2057                            0                            0   \n",
       "2058                            0                            0   \n",
       "\n",
       "      Max Torque_99.08 Nm @ 4500 rpm  Max Torque_99.081 Nm @ 4500 rpm  \\\n",
       "2054                               0                                0   \n",
       "2055                               0                                0   \n",
       "2056                               0                                0   \n",
       "2057                               0                                0   \n",
       "2058                               0                                0   \n",
       "\n",
       "      Max Torque_99@2800  Drivetrain_AWD  Drivetrain_FWD  Drivetrain_RWD  \n",
       "2054                   0               0               1               0  \n",
       "2055                   0               0               1               0  \n",
       "2056                   0               0               1               0  \n",
       "2057                   0               0               0               1  \n",
       "2058                   0               0               0               1  \n",
       "\n",
       "[5 rows x 1930 columns]"
      ]
     },
     "execution_count": 6,
     "metadata": {},
     "output_type": "execute_result"
    }
   ],
   "source": [
    "dataset.tail()"
   ]
  },
  {
   "cell_type": "code",
   "execution_count": 7,
   "id": "6805e694",
   "metadata": {},
   "outputs": [
    {
     "data": {
      "text/plain": [
       "Index(['Price', 'Year', 'Kilometer', 'Seating Capacity', 'Fuel Tank Capacity',\n",
       "       'Make_BMW', 'Make_Chevrolet', 'Make_Datsun', 'Make_Ferrari',\n",
       "       'Make_Fiat',\n",
       "       ...\n",
       "       'Max Torque_96 Nm @ 3000 rpm', 'Max Torque_96 Nm @ 3500 rpm',\n",
       "       'Max Torque_98 Nm @ 3000 rpm', 'Max Torque_99 Nm @ 4500 rpm',\n",
       "       'Max Torque_99.08 Nm @ 4500 rpm', 'Max Torque_99.081 Nm @ 4500 rpm',\n",
       "       'Max Torque_99@2800', 'Drivetrain_AWD', 'Drivetrain_FWD',\n",
       "       'Drivetrain_RWD'],\n",
       "      dtype='object', length=1930)"
      ]
     },
     "execution_count": 7,
     "metadata": {},
     "output_type": "execute_result"
    }
   ],
   "source": [
    "dataset.columns"
   ]
  },
  {
   "cell_type": "code",
   "execution_count": 8,
   "id": "2be10f76",
   "metadata": {},
   "outputs": [],
   "source": [
    "independent=dataset[['Year', 'Kilometer', 'Seating Capacity', 'Fuel Tank Capacity',\n",
    "       'Make_BMW', 'Make_Chevrolet', 'Make_Datsun', 'Make_Ferrari',\n",
    "       'Make_Fiat',\n",
    "       'Max Torque_96 Nm @ 3000 rpm', 'Max Torque_96 Nm @ 3500 rpm',\n",
    "       'Max Torque_98 Nm @ 3000 rpm', 'Max Torque_99 Nm @ 4500 rpm',\n",
    "       'Max Torque_99.08 Nm @ 4500 rpm', 'Max Torque_99.081 Nm @ 4500 rpm',\n",
    "       'Max Torque_99@2800', 'Drivetrain_AWD', 'Drivetrain_FWD',\n",
    "       'Drivetrain_RWD']]\n",
    "dependent = dataset[['Price']]\n"
   ]
  },
  {
   "cell_type": "code",
   "execution_count": 9,
   "id": "4dc91cc9",
   "metadata": {},
   "outputs": [],
   "source": [
    "from sklearn.model_selection import train_test_split\n",
    "x_train,x_test,y_train,y_test=train_test_split(independent,dependent,test_size=0.25,random_state=0)"
   ]
  },
  {
   "cell_type": "code",
   "execution_count": 10,
   "id": "471df9b9",
   "metadata": {},
   "outputs": [],
   "source": [
    "from sklearn.preprocessing import StandardScaler\n",
    "sc=StandardScaler()\n",
    "x_train=sc.fit_transform(x_train)\n",
    "x_test=sc.transform(x_test)"
   ]
  },
  {
   "cell_type": "code",
   "execution_count": 11,
   "id": "d7c7f52c",
   "metadata": {},
   "outputs": [
    {
     "name": "stdout",
     "output_type": "stream",
     "text": [
      "Fitting 5 folds for each of 9 candidates, totalling 45 fits\n"
     ]
    },
    {
     "name": "stderr",
     "output_type": "stream",
     "text": [
      "C:\\Users\\midhu\\anaconda3\\envs\\aiml\\lib\\site-packages\\sklearn\\model_selection\\_validation.py:680: DataConversionWarning: A column-vector y was passed when a 1d array was expected. Please change the shape of y to (n_samples,), for example using ravel().\n",
      "  estimator.fit(X_train, y_train, **fit_params)\n"
     ]
    },
    {
     "name": "stdout",
     "output_type": "stream",
     "text": [
      "[CV 1/5] END max_features=auto, n_estimators=100;, score=-297702516303.076 total time=   0.2s\n"
     ]
    },
    {
     "name": "stderr",
     "output_type": "stream",
     "text": [
      "C:\\Users\\midhu\\anaconda3\\envs\\aiml\\lib\\site-packages\\sklearn\\model_selection\\_validation.py:680: DataConversionWarning: A column-vector y was passed when a 1d array was expected. Please change the shape of y to (n_samples,), for example using ravel().\n",
      "  estimator.fit(X_train, y_train, **fit_params)\n"
     ]
    },
    {
     "name": "stdout",
     "output_type": "stream",
     "text": [
      "[CV 2/5] END max_features=auto, n_estimators=100;, score=-301904442125.536 total time=   0.3s\n"
     ]
    },
    {
     "name": "stderr",
     "output_type": "stream",
     "text": [
      "C:\\Users\\midhu\\anaconda3\\envs\\aiml\\lib\\site-packages\\sklearn\\model_selection\\_validation.py:680: DataConversionWarning: A column-vector y was passed when a 1d array was expected. Please change the shape of y to (n_samples,), for example using ravel().\n",
      "  estimator.fit(X_train, y_train, **fit_params)\n"
     ]
    },
    {
     "name": "stdout",
     "output_type": "stream",
     "text": [
      "[CV 3/5] END max_features=auto, n_estimators=100;, score=-255759877137.559 total time=   0.2s\n"
     ]
    },
    {
     "name": "stderr",
     "output_type": "stream",
     "text": [
      "C:\\Users\\midhu\\anaconda3\\envs\\aiml\\lib\\site-packages\\sklearn\\model_selection\\_validation.py:680: DataConversionWarning: A column-vector y was passed when a 1d array was expected. Please change the shape of y to (n_samples,), for example using ravel().\n",
      "  estimator.fit(X_train, y_train, **fit_params)\n"
     ]
    },
    {
     "name": "stdout",
     "output_type": "stream",
     "text": [
      "[CV 4/5] END max_features=auto, n_estimators=100;, score=-327152201889.779 total time=   0.2s\n"
     ]
    },
    {
     "name": "stderr",
     "output_type": "stream",
     "text": [
      "C:\\Users\\midhu\\anaconda3\\envs\\aiml\\lib\\site-packages\\sklearn\\model_selection\\_validation.py:680: DataConversionWarning: A column-vector y was passed when a 1d array was expected. Please change the shape of y to (n_samples,), for example using ravel().\n",
      "  estimator.fit(X_train, y_train, **fit_params)\n"
     ]
    },
    {
     "name": "stdout",
     "output_type": "stream",
     "text": [
      "[CV 5/5] END max_features=auto, n_estimators=100;, score=-278137054424.336 total time=   0.3s\n"
     ]
    },
    {
     "name": "stderr",
     "output_type": "stream",
     "text": [
      "C:\\Users\\midhu\\anaconda3\\envs\\aiml\\lib\\site-packages\\sklearn\\model_selection\\_validation.py:680: DataConversionWarning: A column-vector y was passed when a 1d array was expected. Please change the shape of y to (n_samples,), for example using ravel().\n",
      "  estimator.fit(X_train, y_train, **fit_params)\n"
     ]
    },
    {
     "name": "stdout",
     "output_type": "stream",
     "text": [
      "[CV 1/5] END max_features=auto, n_estimators=200;, score=-290498137242.732 total time=   1.4s\n"
     ]
    },
    {
     "name": "stderr",
     "output_type": "stream",
     "text": [
      "C:\\Users\\midhu\\anaconda3\\envs\\aiml\\lib\\site-packages\\sklearn\\model_selection\\_validation.py:680: DataConversionWarning: A column-vector y was passed when a 1d array was expected. Please change the shape of y to (n_samples,), for example using ravel().\n",
      "  estimator.fit(X_train, y_train, **fit_params)\n"
     ]
    },
    {
     "name": "stdout",
     "output_type": "stream",
     "text": [
      "[CV 2/5] END max_features=auto, n_estimators=200;, score=-298957916975.859 total time=   2.0s\n"
     ]
    },
    {
     "name": "stderr",
     "output_type": "stream",
     "text": [
      "C:\\Users\\midhu\\anaconda3\\envs\\aiml\\lib\\site-packages\\sklearn\\model_selection\\_validation.py:680: DataConversionWarning: A column-vector y was passed when a 1d array was expected. Please change the shape of y to (n_samples,), for example using ravel().\n",
      "  estimator.fit(X_train, y_train, **fit_params)\n"
     ]
    },
    {
     "name": "stdout",
     "output_type": "stream",
     "text": [
      "[CV 3/5] END max_features=auto, n_estimators=200;, score=-248247657971.551 total time=   1.9s\n"
     ]
    },
    {
     "name": "stderr",
     "output_type": "stream",
     "text": [
      "C:\\Users\\midhu\\anaconda3\\envs\\aiml\\lib\\site-packages\\sklearn\\model_selection\\_validation.py:680: DataConversionWarning: A column-vector y was passed when a 1d array was expected. Please change the shape of y to (n_samples,), for example using ravel().\n",
      "  estimator.fit(X_train, y_train, **fit_params)\n"
     ]
    },
    {
     "name": "stdout",
     "output_type": "stream",
     "text": [
      "[CV 4/5] END max_features=auto, n_estimators=200;, score=-320638039020.326 total time=   2.0s\n"
     ]
    },
    {
     "name": "stderr",
     "output_type": "stream",
     "text": [
      "C:\\Users\\midhu\\anaconda3\\envs\\aiml\\lib\\site-packages\\sklearn\\model_selection\\_validation.py:680: DataConversionWarning: A column-vector y was passed when a 1d array was expected. Please change the shape of y to (n_samples,), for example using ravel().\n",
      "  estimator.fit(X_train, y_train, **fit_params)\n"
     ]
    },
    {
     "name": "stdout",
     "output_type": "stream",
     "text": [
      "[CV 5/5] END max_features=auto, n_estimators=200;, score=-276449221118.974 total time=   2.0s\n"
     ]
    },
    {
     "name": "stderr",
     "output_type": "stream",
     "text": [
      "C:\\Users\\midhu\\anaconda3\\envs\\aiml\\lib\\site-packages\\sklearn\\model_selection\\_validation.py:680: DataConversionWarning: A column-vector y was passed when a 1d array was expected. Please change the shape of y to (n_samples,), for example using ravel().\n",
      "  estimator.fit(X_train, y_train, **fit_params)\n"
     ]
    },
    {
     "name": "stdout",
     "output_type": "stream",
     "text": [
      "[CV 1/5] END max_features=auto, n_estimators=300;, score=-293952204394.023 total time=   3.1s\n"
     ]
    },
    {
     "name": "stderr",
     "output_type": "stream",
     "text": [
      "C:\\Users\\midhu\\anaconda3\\envs\\aiml\\lib\\site-packages\\sklearn\\model_selection\\_validation.py:680: DataConversionWarning: A column-vector y was passed when a 1d array was expected. Please change the shape of y to (n_samples,), for example using ravel().\n",
      "  estimator.fit(X_train, y_train, **fit_params)\n"
     ]
    },
    {
     "name": "stdout",
     "output_type": "stream",
     "text": [
      "[CV 2/5] END max_features=auto, n_estimators=300;, score=-294681522381.530 total time=   3.1s\n"
     ]
    },
    {
     "name": "stderr",
     "output_type": "stream",
     "text": [
      "C:\\Users\\midhu\\anaconda3\\envs\\aiml\\lib\\site-packages\\sklearn\\model_selection\\_validation.py:680: DataConversionWarning: A column-vector y was passed when a 1d array was expected. Please change the shape of y to (n_samples,), for example using ravel().\n",
      "  estimator.fit(X_train, y_train, **fit_params)\n"
     ]
    },
    {
     "name": "stdout",
     "output_type": "stream",
     "text": [
      "[CV 3/5] END max_features=auto, n_estimators=300;, score=-251222938959.841 total time=   2.9s\n"
     ]
    },
    {
     "name": "stderr",
     "output_type": "stream",
     "text": [
      "C:\\Users\\midhu\\anaconda3\\envs\\aiml\\lib\\site-packages\\sklearn\\model_selection\\_validation.py:680: DataConversionWarning: A column-vector y was passed when a 1d array was expected. Please change the shape of y to (n_samples,), for example using ravel().\n",
      "  estimator.fit(X_train, y_train, **fit_params)\n"
     ]
    },
    {
     "name": "stdout",
     "output_type": "stream",
     "text": [
      "[CV 4/5] END max_features=auto, n_estimators=300;, score=-329974582361.908 total time=   2.7s\n"
     ]
    },
    {
     "name": "stderr",
     "output_type": "stream",
     "text": [
      "C:\\Users\\midhu\\anaconda3\\envs\\aiml\\lib\\site-packages\\sklearn\\model_selection\\_validation.py:680: DataConversionWarning: A column-vector y was passed when a 1d array was expected. Please change the shape of y to (n_samples,), for example using ravel().\n",
      "  estimator.fit(X_train, y_train, **fit_params)\n"
     ]
    },
    {
     "name": "stdout",
     "output_type": "stream",
     "text": [
      "[CV 5/5] END max_features=auto, n_estimators=300;, score=-276054244749.161 total time=   2.8s\n"
     ]
    },
    {
     "name": "stderr",
     "output_type": "stream",
     "text": [
      "C:\\Users\\midhu\\anaconda3\\envs\\aiml\\lib\\site-packages\\sklearn\\model_selection\\_validation.py:680: DataConversionWarning: A column-vector y was passed when a 1d array was expected. Please change the shape of y to (n_samples,), for example using ravel().\n",
      "  estimator.fit(X_train, y_train, **fit_params)\n"
     ]
    },
    {
     "name": "stdout",
     "output_type": "stream",
     "text": [
      "[CV 1/5] END max_features=sqrt, n_estimators=100;, score=-273305494669.504 total time=   0.5s\n"
     ]
    },
    {
     "name": "stderr",
     "output_type": "stream",
     "text": [
      "C:\\Users\\midhu\\anaconda3\\envs\\aiml\\lib\\site-packages\\sklearn\\model_selection\\_validation.py:680: DataConversionWarning: A column-vector y was passed when a 1d array was expected. Please change the shape of y to (n_samples,), for example using ravel().\n",
      "  estimator.fit(X_train, y_train, **fit_params)\n"
     ]
    },
    {
     "name": "stdout",
     "output_type": "stream",
     "text": [
      "[CV 2/5] END max_features=sqrt, n_estimators=100;, score=-312582313027.091 total time=   0.5s\n"
     ]
    },
    {
     "name": "stderr",
     "output_type": "stream",
     "text": [
      "C:\\Users\\midhu\\anaconda3\\envs\\aiml\\lib\\site-packages\\sklearn\\model_selection\\_validation.py:680: DataConversionWarning: A column-vector y was passed when a 1d array was expected. Please change the shape of y to (n_samples,), for example using ravel().\n",
      "  estimator.fit(X_train, y_train, **fit_params)\n"
     ]
    },
    {
     "name": "stdout",
     "output_type": "stream",
     "text": [
      "[CV 3/5] END max_features=sqrt, n_estimators=100;, score=-270403408661.827 total time=   0.5s\n"
     ]
    },
    {
     "name": "stderr",
     "output_type": "stream",
     "text": [
      "C:\\Users\\midhu\\anaconda3\\envs\\aiml\\lib\\site-packages\\sklearn\\model_selection\\_validation.py:680: DataConversionWarning: A column-vector y was passed when a 1d array was expected. Please change the shape of y to (n_samples,), for example using ravel().\n",
      "  estimator.fit(X_train, y_train, **fit_params)\n"
     ]
    },
    {
     "name": "stdout",
     "output_type": "stream",
     "text": [
      "[CV 4/5] END max_features=sqrt, n_estimators=100;, score=-316630743671.659 total time=   0.5s\n"
     ]
    },
    {
     "name": "stderr",
     "output_type": "stream",
     "text": [
      "C:\\Users\\midhu\\anaconda3\\envs\\aiml\\lib\\site-packages\\sklearn\\model_selection\\_validation.py:680: DataConversionWarning: A column-vector y was passed when a 1d array was expected. Please change the shape of y to (n_samples,), for example using ravel().\n",
      "  estimator.fit(X_train, y_train, **fit_params)\n"
     ]
    },
    {
     "name": "stdout",
     "output_type": "stream",
     "text": [
      "[CV 5/5] END max_features=sqrt, n_estimators=100;, score=-273111225109.846 total time=   0.5s\n"
     ]
    },
    {
     "name": "stderr",
     "output_type": "stream",
     "text": [
      "C:\\Users\\midhu\\anaconda3\\envs\\aiml\\lib\\site-packages\\sklearn\\model_selection\\_validation.py:680: DataConversionWarning: A column-vector y was passed when a 1d array was expected. Please change the shape of y to (n_samples,), for example using ravel().\n",
      "  estimator.fit(X_train, y_train, **fit_params)\n"
     ]
    },
    {
     "name": "stdout",
     "output_type": "stream",
     "text": [
      "[CV 1/5] END max_features=sqrt, n_estimators=200;, score=-280227930877.174 total time=   1.1s\n"
     ]
    },
    {
     "name": "stderr",
     "output_type": "stream",
     "text": [
      "C:\\Users\\midhu\\anaconda3\\envs\\aiml\\lib\\site-packages\\sklearn\\model_selection\\_validation.py:680: DataConversionWarning: A column-vector y was passed when a 1d array was expected. Please change the shape of y to (n_samples,), for example using ravel().\n",
      "  estimator.fit(X_train, y_train, **fit_params)\n"
     ]
    },
    {
     "name": "stdout",
     "output_type": "stream",
     "text": [
      "[CV 2/5] END max_features=sqrt, n_estimators=200;, score=-303411271425.803 total time=   1.1s\n"
     ]
    },
    {
     "name": "stderr",
     "output_type": "stream",
     "text": [
      "C:\\Users\\midhu\\anaconda3\\envs\\aiml\\lib\\site-packages\\sklearn\\model_selection\\_validation.py:680: DataConversionWarning: A column-vector y was passed when a 1d array was expected. Please change the shape of y to (n_samples,), for example using ravel().\n",
      "  estimator.fit(X_train, y_train, **fit_params)\n"
     ]
    },
    {
     "name": "stdout",
     "output_type": "stream",
     "text": [
      "[CV 3/5] END max_features=sqrt, n_estimators=200;, score=-267650889258.853 total time=   1.1s\n"
     ]
    },
    {
     "name": "stderr",
     "output_type": "stream",
     "text": [
      "C:\\Users\\midhu\\anaconda3\\envs\\aiml\\lib\\site-packages\\sklearn\\model_selection\\_validation.py:680: DataConversionWarning: A column-vector y was passed when a 1d array was expected. Please change the shape of y to (n_samples,), for example using ravel().\n",
      "  estimator.fit(X_train, y_train, **fit_params)\n"
     ]
    },
    {
     "name": "stdout",
     "output_type": "stream",
     "text": [
      "[CV 4/5] END max_features=sqrt, n_estimators=200;, score=-312895570351.416 total time=   1.1s\n"
     ]
    },
    {
     "name": "stderr",
     "output_type": "stream",
     "text": [
      "C:\\Users\\midhu\\anaconda3\\envs\\aiml\\lib\\site-packages\\sklearn\\model_selection\\_validation.py:680: DataConversionWarning: A column-vector y was passed when a 1d array was expected. Please change the shape of y to (n_samples,), for example using ravel().\n",
      "  estimator.fit(X_train, y_train, **fit_params)\n"
     ]
    },
    {
     "name": "stdout",
     "output_type": "stream",
     "text": [
      "[CV 5/5] END max_features=sqrt, n_estimators=200;, score=-279499695894.112 total time=   1.1s\n"
     ]
    },
    {
     "name": "stderr",
     "output_type": "stream",
     "text": [
      "C:\\Users\\midhu\\anaconda3\\envs\\aiml\\lib\\site-packages\\sklearn\\model_selection\\_validation.py:680: DataConversionWarning: A column-vector y was passed when a 1d array was expected. Please change the shape of y to (n_samples,), for example using ravel().\n",
      "  estimator.fit(X_train, y_train, **fit_params)\n"
     ]
    },
    {
     "name": "stdout",
     "output_type": "stream",
     "text": [
      "[CV 1/5] END max_features=sqrt, n_estimators=300;, score=-279700383777.354 total time=   1.7s\n"
     ]
    },
    {
     "name": "stderr",
     "output_type": "stream",
     "text": [
      "C:\\Users\\midhu\\anaconda3\\envs\\aiml\\lib\\site-packages\\sklearn\\model_selection\\_validation.py:680: DataConversionWarning: A column-vector y was passed when a 1d array was expected. Please change the shape of y to (n_samples,), for example using ravel().\n",
      "  estimator.fit(X_train, y_train, **fit_params)\n"
     ]
    },
    {
     "name": "stdout",
     "output_type": "stream",
     "text": [
      "[CV 2/5] END max_features=sqrt, n_estimators=300;, score=-299261924157.927 total time=   1.7s\n"
     ]
    },
    {
     "name": "stderr",
     "output_type": "stream",
     "text": [
      "C:\\Users\\midhu\\anaconda3\\envs\\aiml\\lib\\site-packages\\sklearn\\model_selection\\_validation.py:680: DataConversionWarning: A column-vector y was passed when a 1d array was expected. Please change the shape of y to (n_samples,), for example using ravel().\n",
      "  estimator.fit(X_train, y_train, **fit_params)\n"
     ]
    },
    {
     "name": "stdout",
     "output_type": "stream",
     "text": [
      "[CV 3/5] END max_features=sqrt, n_estimators=300;, score=-273968316517.057 total time=   1.7s\n"
     ]
    },
    {
     "name": "stderr",
     "output_type": "stream",
     "text": [
      "C:\\Users\\midhu\\anaconda3\\envs\\aiml\\lib\\site-packages\\sklearn\\model_selection\\_validation.py:680: DataConversionWarning: A column-vector y was passed when a 1d array was expected. Please change the shape of y to (n_samples,), for example using ravel().\n",
      "  estimator.fit(X_train, y_train, **fit_params)\n"
     ]
    },
    {
     "name": "stdout",
     "output_type": "stream",
     "text": [
      "[CV 4/5] END max_features=sqrt, n_estimators=300;, score=-314932386415.356 total time=   1.7s\n"
     ]
    },
    {
     "name": "stderr",
     "output_type": "stream",
     "text": [
      "C:\\Users\\midhu\\anaconda3\\envs\\aiml\\lib\\site-packages\\sklearn\\model_selection\\_validation.py:680: DataConversionWarning: A column-vector y was passed when a 1d array was expected. Please change the shape of y to (n_samples,), for example using ravel().\n",
      "  estimator.fit(X_train, y_train, **fit_params)\n"
     ]
    },
    {
     "name": "stdout",
     "output_type": "stream",
     "text": [
      "[CV 5/5] END max_features=sqrt, n_estimators=300;, score=-286679135764.949 total time=   1.7s\n"
     ]
    },
    {
     "name": "stderr",
     "output_type": "stream",
     "text": [
      "C:\\Users\\midhu\\anaconda3\\envs\\aiml\\lib\\site-packages\\sklearn\\model_selection\\_validation.py:680: DataConversionWarning: A column-vector y was passed when a 1d array was expected. Please change the shape of y to (n_samples,), for example using ravel().\n",
      "  estimator.fit(X_train, y_train, **fit_params)\n"
     ]
    },
    {
     "name": "stdout",
     "output_type": "stream",
     "text": [
      "[CV 1/5] END max_features=log2, n_estimators=100;, score=-282999034174.058 total time=   0.5s\n"
     ]
    },
    {
     "name": "stderr",
     "output_type": "stream",
     "text": [
      "C:\\Users\\midhu\\anaconda3\\envs\\aiml\\lib\\site-packages\\sklearn\\model_selection\\_validation.py:680: DataConversionWarning: A column-vector y was passed when a 1d array was expected. Please change the shape of y to (n_samples,), for example using ravel().\n",
      "  estimator.fit(X_train, y_train, **fit_params)\n"
     ]
    },
    {
     "name": "stdout",
     "output_type": "stream",
     "text": [
      "[CV 2/5] END max_features=log2, n_estimators=100;, score=-314615208221.497 total time=   0.5s\n"
     ]
    },
    {
     "name": "stderr",
     "output_type": "stream",
     "text": [
      "C:\\Users\\midhu\\anaconda3\\envs\\aiml\\lib\\site-packages\\sklearn\\model_selection\\_validation.py:680: DataConversionWarning: A column-vector y was passed when a 1d array was expected. Please change the shape of y to (n_samples,), for example using ravel().\n",
      "  estimator.fit(X_train, y_train, **fit_params)\n"
     ]
    },
    {
     "name": "stdout",
     "output_type": "stream",
     "text": [
      "[CV 3/5] END max_features=log2, n_estimators=100;, score=-272386935978.059 total time=   0.5s\n"
     ]
    },
    {
     "name": "stderr",
     "output_type": "stream",
     "text": [
      "C:\\Users\\midhu\\anaconda3\\envs\\aiml\\lib\\site-packages\\sklearn\\model_selection\\_validation.py:680: DataConversionWarning: A column-vector y was passed when a 1d array was expected. Please change the shape of y to (n_samples,), for example using ravel().\n",
      "  estimator.fit(X_train, y_train, **fit_params)\n"
     ]
    },
    {
     "name": "stdout",
     "output_type": "stream",
     "text": [
      "[CV 4/5] END max_features=log2, n_estimators=100;, score=-323548370407.359 total time=   0.5s\n"
     ]
    },
    {
     "name": "stderr",
     "output_type": "stream",
     "text": [
      "C:\\Users\\midhu\\anaconda3\\envs\\aiml\\lib\\site-packages\\sklearn\\model_selection\\_validation.py:680: DataConversionWarning: A column-vector y was passed when a 1d array was expected. Please change the shape of y to (n_samples,), for example using ravel().\n",
      "  estimator.fit(X_train, y_train, **fit_params)\n"
     ]
    },
    {
     "name": "stdout",
     "output_type": "stream",
     "text": [
      "[CV 5/5] END max_features=log2, n_estimators=100;, score=-282377564803.475 total time=   0.5s\n"
     ]
    },
    {
     "name": "stderr",
     "output_type": "stream",
     "text": [
      "C:\\Users\\midhu\\anaconda3\\envs\\aiml\\lib\\site-packages\\sklearn\\model_selection\\_validation.py:680: DataConversionWarning: A column-vector y was passed when a 1d array was expected. Please change the shape of y to (n_samples,), for example using ravel().\n",
      "  estimator.fit(X_train, y_train, **fit_params)\n"
     ]
    },
    {
     "name": "stdout",
     "output_type": "stream",
     "text": [
      "[CV 1/5] END max_features=log2, n_estimators=200;, score=-280562947292.473 total time=   1.1s\n"
     ]
    },
    {
     "name": "stderr",
     "output_type": "stream",
     "text": [
      "C:\\Users\\midhu\\anaconda3\\envs\\aiml\\lib\\site-packages\\sklearn\\model_selection\\_validation.py:680: DataConversionWarning: A column-vector y was passed when a 1d array was expected. Please change the shape of y to (n_samples,), for example using ravel().\n",
      "  estimator.fit(X_train, y_train, **fit_params)\n"
     ]
    },
    {
     "name": "stdout",
     "output_type": "stream",
     "text": [
      "[CV 2/5] END max_features=log2, n_estimators=200;, score=-298875857625.911 total time=   1.1s\n"
     ]
    },
    {
     "name": "stderr",
     "output_type": "stream",
     "text": [
      "C:\\Users\\midhu\\anaconda3\\envs\\aiml\\lib\\site-packages\\sklearn\\model_selection\\_validation.py:680: DataConversionWarning: A column-vector y was passed when a 1d array was expected. Please change the shape of y to (n_samples,), for example using ravel().\n",
      "  estimator.fit(X_train, y_train, **fit_params)\n"
     ]
    },
    {
     "name": "stdout",
     "output_type": "stream",
     "text": [
      "[CV 3/5] END max_features=log2, n_estimators=200;, score=-265331058903.570 total time=   1.1s\n"
     ]
    },
    {
     "name": "stderr",
     "output_type": "stream",
     "text": [
      "C:\\Users\\midhu\\anaconda3\\envs\\aiml\\lib\\site-packages\\sklearn\\model_selection\\_validation.py:680: DataConversionWarning: A column-vector y was passed when a 1d array was expected. Please change the shape of y to (n_samples,), for example using ravel().\n",
      "  estimator.fit(X_train, y_train, **fit_params)\n"
     ]
    },
    {
     "name": "stdout",
     "output_type": "stream",
     "text": [
      "[CV 4/5] END max_features=log2, n_estimators=200;, score=-316217797586.209 total time=   1.1s\n"
     ]
    },
    {
     "name": "stderr",
     "output_type": "stream",
     "text": [
      "C:\\Users\\midhu\\anaconda3\\envs\\aiml\\lib\\site-packages\\sklearn\\model_selection\\_validation.py:680: DataConversionWarning: A column-vector y was passed when a 1d array was expected. Please change the shape of y to (n_samples,), for example using ravel().\n",
      "  estimator.fit(X_train, y_train, **fit_params)\n"
     ]
    },
    {
     "name": "stdout",
     "output_type": "stream",
     "text": [
      "[CV 5/5] END max_features=log2, n_estimators=200;, score=-289780735312.209 total time=   1.1s\n"
     ]
    },
    {
     "name": "stderr",
     "output_type": "stream",
     "text": [
      "C:\\Users\\midhu\\anaconda3\\envs\\aiml\\lib\\site-packages\\sklearn\\model_selection\\_validation.py:680: DataConversionWarning: A column-vector y was passed when a 1d array was expected. Please change the shape of y to (n_samples,), for example using ravel().\n",
      "  estimator.fit(X_train, y_train, **fit_params)\n"
     ]
    },
    {
     "name": "stdout",
     "output_type": "stream",
     "text": [
      "[CV 1/5] END max_features=log2, n_estimators=300;, score=-280219469606.008 total time=   1.6s\n"
     ]
    },
    {
     "name": "stderr",
     "output_type": "stream",
     "text": [
      "C:\\Users\\midhu\\anaconda3\\envs\\aiml\\lib\\site-packages\\sklearn\\model_selection\\_validation.py:680: DataConversionWarning: A column-vector y was passed when a 1d array was expected. Please change the shape of y to (n_samples,), for example using ravel().\n",
      "  estimator.fit(X_train, y_train, **fit_params)\n"
     ]
    },
    {
     "name": "stdout",
     "output_type": "stream",
     "text": [
      "[CV 2/5] END max_features=log2, n_estimators=300;, score=-301252680887.092 total time=   1.7s\n"
     ]
    },
    {
     "name": "stderr",
     "output_type": "stream",
     "text": [
      "C:\\Users\\midhu\\anaconda3\\envs\\aiml\\lib\\site-packages\\sklearn\\model_selection\\_validation.py:680: DataConversionWarning: A column-vector y was passed when a 1d array was expected. Please change the shape of y to (n_samples,), for example using ravel().\n",
      "  estimator.fit(X_train, y_train, **fit_params)\n"
     ]
    },
    {
     "name": "stdout",
     "output_type": "stream",
     "text": [
      "[CV 3/5] END max_features=log2, n_estimators=300;, score=-271186666679.989 total time=   1.7s\n"
     ]
    },
    {
     "name": "stderr",
     "output_type": "stream",
     "text": [
      "C:\\Users\\midhu\\anaconda3\\envs\\aiml\\lib\\site-packages\\sklearn\\model_selection\\_validation.py:680: DataConversionWarning: A column-vector y was passed when a 1d array was expected. Please change the shape of y to (n_samples,), for example using ravel().\n",
      "  estimator.fit(X_train, y_train, **fit_params)\n"
     ]
    },
    {
     "name": "stdout",
     "output_type": "stream",
     "text": [
      "[CV 4/5] END max_features=log2, n_estimators=300;, score=-311575262940.733 total time=   1.7s\n"
     ]
    },
    {
     "name": "stderr",
     "output_type": "stream",
     "text": [
      "C:\\Users\\midhu\\anaconda3\\envs\\aiml\\lib\\site-packages\\sklearn\\model_selection\\_validation.py:680: DataConversionWarning: A column-vector y was passed when a 1d array was expected. Please change the shape of y to (n_samples,), for example using ravel().\n",
      "  estimator.fit(X_train, y_train, **fit_params)\n"
     ]
    },
    {
     "name": "stdout",
     "output_type": "stream",
     "text": [
      "[CV 5/5] END max_features=log2, n_estimators=300;, score=-287656033789.046 total time=   1.7s\n"
     ]
    },
    {
     "name": "stderr",
     "output_type": "stream",
     "text": [
      "C:\\Users\\midhu\\anaconda3\\envs\\aiml\\lib\\site-packages\\sklearn\\model_selection\\_search.py:926: DataConversionWarning: A column-vector y was passed when a 1d array was expected. Please change the shape of y to (n_samples,), for example using ravel().\n",
      "  self.best_estimator_.fit(X, y, **fit_params)\n"
     ]
    },
    {
     "data": {
      "text/plain": [
       "GridSearchCV(estimator=RandomForestRegressor(), n_jobs=1,\n",
       "             param_grid={'max_features': ['auto', 'sqrt', 'log2'],\n",
       "                         'n_estimators': [100, 200, 300]},\n",
       "             scoring='neg_mean_squared_error', verbose=3)"
      ]
     },
     "execution_count": 11,
     "metadata": {},
     "output_type": "execute_result"
    }
   ],
   "source": [
    "from sklearn.ensemble import RandomForestRegressor\n",
    "from sklearn.model_selection import GridSearchCV\n",
    "\n",
    "param_grid = {\n",
    "    'n_estimators': [100, 200, 300],\n",
    "    'max_features': ['auto', 'sqrt', 'log2']\n",
    "}\n",
    "\n",
    "grid = GridSearchCV(RandomForestRegressor(), param_grid, verbose=3, n_jobs=1, scoring='neg_mean_squared_error')\n",
    "\n",
    "# Fit the grid search to your training data\n",
    "grid.fit(x_train, y_train)\n"
   ]
  },
  {
   "cell_type": "code",
   "execution_count": 12,
   "id": "10c85487",
   "metadata": {},
   "outputs": [],
   "source": [
    "re=grid.cv_results_\n",
    "grid_prediction=grid.predict(x_test)"
   ]
  },
  {
   "cell_type": "code",
   "execution_count": 13,
   "id": "698bb885",
   "metadata": {},
   "outputs": [
    {
     "name": "stderr",
     "output_type": "stream",
     "text": [
      "C:\\Users\\midhu\\anaconda3\\envs\\aiml\\lib\\site-packages\\ipykernel_launcher.py:3: DataConversionWarning: A column-vector y was passed when a 1d array was expected. Please change the shape of y to (n_samples,), for example using ravel().\n",
      "  This is separate from the ipykernel package so we can avoid doing imports until\n"
     ]
    },
    {
     "data": {
      "text/plain": [
       "RandomForestRegressor(max_features='sqrt')"
      ]
     },
     "execution_count": 13,
     "metadata": {},
     "output_type": "execute_result"
    }
   ],
   "source": [
    "from sklearn.ensemble import RandomForestRegressor\n",
    "regressor = RandomForestRegressor(n_estimators=100, max_features='sqrt')\n",
    "regressor.fit(x_train, y_train)\n"
   ]
  },
  {
   "cell_type": "code",
   "execution_count": 14,
   "id": "aaa46844",
   "metadata": {},
   "outputs": [],
   "source": [
    "y_pred=regressor.predict(x_test)"
   ]
  },
  {
   "cell_type": "code",
   "execution_count": 15,
   "id": "25abddb5",
   "metadata": {},
   "outputs": [],
   "source": [
    "from sklearn.metrics import r2_score\n",
    "r_score=r2_score(y_test,y_pred)"
   ]
  },
  {
   "cell_type": "code",
   "execution_count": 16,
   "id": "ee025ebb",
   "metadata": {},
   "outputs": [
    {
     "data": {
      "text/plain": [
       "0.8023504535150302"
      ]
     },
     "execution_count": 16,
     "metadata": {},
     "output_type": "execute_result"
    }
   ],
   "source": [
    "r_score"
   ]
  },
  {
   "cell_type": "code",
   "execution_count": 17,
   "id": "28a794c7",
   "metadata": {},
   "outputs": [
    {
     "name": "stdout",
     "output_type": "stream",
     "text": [
      "Year:2014\n",
      "Kilometer:75000\n",
      "Seating Capacity:65\n",
      "Fuel Tank Capacity:1\n",
      "Make BMW:1\n",
      "Make Chevrolet:1\n",
      "Make Datsun:1\n",
      "Make Ferrari:1\n",
      "Make Fiat:0\n",
      "Max Torque 96 Nm @ 3000 rpm:0\n",
      "Max Torque 96 Nm @ 3500 rpm:0\n",
      "Max Torque 98 Nm @ 3000 rpm:0\n",
      "Max Torque 99 Nm @ 4500 rpm:0\n",
      "Max Torque 99.08 Nm @ 4500 rpm:0\n",
      "Max Torque 99.081 Nm @ 4500 rpm:0\n",
      "Max Torque 99 @ 2800:0\n",
      "Drivetrain AWD:0\n",
      "Drivetrain_FWD:0\n",
      "Drivetrain RWD:0\n"
     ]
    }
   ],
   "source": [
    "Year_input = float(input('Year:'))\n",
    "Kilometer_input = float(input('Kilometer:'))\n",
    "Seating_Capacity_input = float(input('Seating Capacity:'))\n",
    "Fuel_Tank_Capacity_input = float(input('Fuel Tank Capacity:'))\n",
    "Make_BMW_input = float(input('Make BMW:'))\n",
    "Make_Chevrolet_input = float(input('Make Chevrolet:'))\n",
    "Make_Datsun_input = float(input('Make Datsun:'))\n",
    "Make_Ferrari_input = float(input('Make Ferrari:'))\n",
    "Make_Fiat_input = float(input('Make Fiat:'))\n",
    "Max_Torque_96_Nm_3000_rpm_input = float(input('Max Torque 96 Nm @ 3000 rpm:'))\n",
    "Max_Torque_96_Nm_3500_rpm_input = float(input('Max Torque 96 Nm @ 3500 rpm:'))\n",
    "Max_Torque_98_Nm_3000_rpm_input = float(input('Max Torque 98 Nm @ 3000 rpm:'))\n",
    "Max_Torque_99_Nm_4500_rpm_input = float(input('Max Torque 99 Nm @ 4500 rpm:'))\n",
    "Max_Torque_99_08_Nm_4500_rpm_input = float(input('Max Torque 99.08 Nm @ 4500 rpm:'))\n",
    "Max_Torque_99_081_Nm_4500_rpm_input = float(input('Max Torque 99.081 Nm @ 4500 rpm:'))\n",
    "Max_Torque_99_2800_input = float(input('Max Torque 99 @ 2800:'))\n",
    "Drivetrain_AWD_input = float(input('Drivetrain AWD:'))\n",
    "Drivetrain_FWD_input = float(input('Drivetrain_FWD:'))\n",
    "Drivetrain_RWD_input = float(input('Drivetrain RWD:'))\n"
   ]
  },
  {
   "cell_type": "code",
   "execution_count": 18,
   "id": "1c7f2afc",
   "metadata": {},
   "outputs": [
    {
     "name": "stdout",
     "output_type": "stream",
     "text": [
      "Price_prediction = [1384180.0075]\n"
     ]
    }
   ],
   "source": [
    "Price_prediction = grid.predict([[Year_input, Kilometer_input, Seating_Capacity_input, Fuel_Tank_Capacity_input, Make_BMW_input, Make_Chevrolet_input, Make_Datsun_input, Make_Ferrari_input, Make_Fiat_input, Max_Torque_96_Nm_3000_rpm_input, Max_Torque_96_Nm_3500_rpm_input, Max_Torque_98_Nm_3000_rpm_input, Max_Torque_99_Nm_4500_rpm_input, Max_Torque_99_08_Nm_4500_rpm_input, Max_Torque_99_081_Nm_4500_rpm_input, Max_Torque_99_2800_input, Drivetrain_AWD_input, Drivetrain_FWD_input, Drivetrain_RWD_input]])\n",
    "print('Price_prediction = {}'.format(Price_prediction))\n"
   ]
  },
  {
   "cell_type": "code",
   "execution_count": 20,
   "id": "f16a0794",
   "metadata": {},
   "outputs": [],
   "source": [
    "import pickle\n",
    "filename='finalised_model_forest.sav'\n",
    "pickle.dump(regressor,open(filename,'wb'))\n",
    "loaded_model=pickle.load(open('finalised_model_forest.sav','rb'))\n",
    "result=loaded_model.predict([[2014,75000,65,1,1,1,1,1,0,0,0,0,0,0,0,0,0,0,0]])"
   ]
  },
  {
   "cell_type": "code",
   "execution_count": 21,
   "id": "f59a6810",
   "metadata": {},
   "outputs": [
    {
     "data": {
      "text/plain": [
       "array([2088780.135])"
      ]
     },
     "execution_count": 21,
     "metadata": {},
     "output_type": "execute_result"
    }
   ],
   "source": [
    "result"
   ]
  },
  {
   "cell_type": "code",
   "execution_count": null,
   "id": "eecfa7a9",
   "metadata": {},
   "outputs": [],
   "source": []
  }
 ],
 "metadata": {
  "kernelspec": {
   "display_name": "Python 3 (ipykernel)",
   "language": "python",
   "name": "python3"
  },
  "language_info": {
   "codemirror_mode": {
    "name": "ipython",
    "version": 3
   },
   "file_extension": ".py",
   "mimetype": "text/x-python",
   "name": "python",
   "nbconvert_exporter": "python",
   "pygments_lexer": "ipython3",
   "version": "3.7.6"
  }
 },
 "nbformat": 4,
 "nbformat_minor": 5
}
